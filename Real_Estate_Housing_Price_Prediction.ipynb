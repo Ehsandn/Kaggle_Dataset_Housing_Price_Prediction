{
 "cells": [
  {
   "cell_type": "markdown",
   "id": "143e38ae",
   "metadata": {},
   "source": [
    "# Kaggle Dataset on Indian Housing Prices, Predictive Analysis"
   ]
  },
  {
   "cell_type": "code",
   "execution_count": 378,
   "id": "3107c6b3",
   "metadata": {},
   "outputs": [],
   "source": [
    "#Importing Dependencies\n",
    "import pandas as pd\n",
    "import seaborn as sns\n",
    "import numpy as np"
   ]
  },
  {
   "cell_type": "code",
   "execution_count": 379,
   "id": "0a2fc0a7",
   "metadata": {},
   "outputs": [],
   "source": [
    "data=pd.read_csv(r'C:\\Users\\HP\\Downloads\\BHP.csv')"
   ]
  },
  {
   "cell_type": "code",
   "execution_count": 380,
   "id": "ed65b454",
   "metadata": {},
   "outputs": [
    {
     "data": {
      "text/html": [
       "<div>\n",
       "<style scoped>\n",
       "    .dataframe tbody tr th:only-of-type {\n",
       "        vertical-align: middle;\n",
       "    }\n",
       "\n",
       "    .dataframe tbody tr th {\n",
       "        vertical-align: top;\n",
       "    }\n",
       "\n",
       "    .dataframe thead th {\n",
       "        text-align: right;\n",
       "    }\n",
       "</style>\n",
       "<table border=\"1\" class=\"dataframe\">\n",
       "  <thead>\n",
       "    <tr style=\"text-align: right;\">\n",
       "      <th></th>\n",
       "      <th>area_type</th>\n",
       "      <th>availability</th>\n",
       "      <th>location</th>\n",
       "      <th>size</th>\n",
       "      <th>society</th>\n",
       "      <th>total_sqft</th>\n",
       "      <th>bath</th>\n",
       "      <th>balcony</th>\n",
       "      <th>price</th>\n",
       "    </tr>\n",
       "  </thead>\n",
       "  <tbody>\n",
       "    <tr>\n",
       "      <th>0</th>\n",
       "      <td>Super built-up  Area</td>\n",
       "      <td>19-Dec</td>\n",
       "      <td>Electronic City Phase II</td>\n",
       "      <td>2 BHK</td>\n",
       "      <td>Coomee</td>\n",
       "      <td>1056</td>\n",
       "      <td>2.0</td>\n",
       "      <td>1.0</td>\n",
       "      <td>39.07</td>\n",
       "    </tr>\n",
       "    <tr>\n",
       "      <th>1</th>\n",
       "      <td>Plot  Area</td>\n",
       "      <td>Ready To Move</td>\n",
       "      <td>Chikka Tirupathi</td>\n",
       "      <td>4 Bedroom</td>\n",
       "      <td>Theanmp</td>\n",
       "      <td>2600</td>\n",
       "      <td>5.0</td>\n",
       "      <td>3.0</td>\n",
       "      <td>120.00</td>\n",
       "    </tr>\n",
       "    <tr>\n",
       "      <th>2</th>\n",
       "      <td>Built-up  Area</td>\n",
       "      <td>Ready To Move</td>\n",
       "      <td>Uttarahalli</td>\n",
       "      <td>3 BHK</td>\n",
       "      <td>NaN</td>\n",
       "      <td>1440</td>\n",
       "      <td>2.0</td>\n",
       "      <td>3.0</td>\n",
       "      <td>62.00</td>\n",
       "    </tr>\n",
       "    <tr>\n",
       "      <th>3</th>\n",
       "      <td>Super built-up  Area</td>\n",
       "      <td>Ready To Move</td>\n",
       "      <td>Lingadheeranahalli</td>\n",
       "      <td>3 BHK</td>\n",
       "      <td>Soiewre</td>\n",
       "      <td>1521</td>\n",
       "      <td>3.0</td>\n",
       "      <td>1.0</td>\n",
       "      <td>95.00</td>\n",
       "    </tr>\n",
       "    <tr>\n",
       "      <th>4</th>\n",
       "      <td>Super built-up  Area</td>\n",
       "      <td>Ready To Move</td>\n",
       "      <td>Kothanur</td>\n",
       "      <td>2 BHK</td>\n",
       "      <td>NaN</td>\n",
       "      <td>1200</td>\n",
       "      <td>2.0</td>\n",
       "      <td>1.0</td>\n",
       "      <td>51.00</td>\n",
       "    </tr>\n",
       "  </tbody>\n",
       "</table>\n",
       "</div>"
      ],
      "text/plain": [
       "              area_type   availability                  location       size  \\\n",
       "0  Super built-up  Area         19-Dec  Electronic City Phase II      2 BHK   \n",
       "1            Plot  Area  Ready To Move          Chikka Tirupathi  4 Bedroom   \n",
       "2        Built-up  Area  Ready To Move               Uttarahalli      3 BHK   \n",
       "3  Super built-up  Area  Ready To Move        Lingadheeranahalli      3 BHK   \n",
       "4  Super built-up  Area  Ready To Move                  Kothanur      2 BHK   \n",
       "\n",
       "   society total_sqft  bath  balcony   price  \n",
       "0  Coomee        1056   2.0      1.0   39.07  \n",
       "1  Theanmp       2600   5.0      3.0  120.00  \n",
       "2      NaN       1440   2.0      3.0   62.00  \n",
       "3  Soiewre       1521   3.0      1.0   95.00  \n",
       "4      NaN       1200   2.0      1.0   51.00  "
      ]
     },
     "execution_count": 380,
     "metadata": {},
     "output_type": "execute_result"
    }
   ],
   "source": [
    "data.head()"
   ]
  },
  {
   "cell_type": "code",
   "execution_count": 381,
   "id": "fda84dd8",
   "metadata": {},
   "outputs": [],
   "source": [
    "data.drop(columns=['society'],inplace=True)"
   ]
  },
  {
   "cell_type": "code",
   "execution_count": 382,
   "id": "99211675",
   "metadata": {},
   "outputs": [
    {
     "data": {
      "text/html": [
       "<div>\n",
       "<style scoped>\n",
       "    .dataframe tbody tr th:only-of-type {\n",
       "        vertical-align: middle;\n",
       "    }\n",
       "\n",
       "    .dataframe tbody tr th {\n",
       "        vertical-align: top;\n",
       "    }\n",
       "\n",
       "    .dataframe thead th {\n",
       "        text-align: right;\n",
       "    }\n",
       "</style>\n",
       "<table border=\"1\" class=\"dataframe\">\n",
       "  <thead>\n",
       "    <tr style=\"text-align: right;\">\n",
       "      <th></th>\n",
       "      <th>area_type</th>\n",
       "      <th>availability</th>\n",
       "      <th>location</th>\n",
       "      <th>size</th>\n",
       "      <th>total_sqft</th>\n",
       "      <th>bath</th>\n",
       "      <th>balcony</th>\n",
       "      <th>price</th>\n",
       "    </tr>\n",
       "  </thead>\n",
       "  <tbody>\n",
       "    <tr>\n",
       "      <th>0</th>\n",
       "      <td>Super built-up  Area</td>\n",
       "      <td>19-Dec</td>\n",
       "      <td>Electronic City Phase II</td>\n",
       "      <td>2 BHK</td>\n",
       "      <td>1056</td>\n",
       "      <td>2.0</td>\n",
       "      <td>1.0</td>\n",
       "      <td>39.07</td>\n",
       "    </tr>\n",
       "    <tr>\n",
       "      <th>1</th>\n",
       "      <td>Plot  Area</td>\n",
       "      <td>Ready To Move</td>\n",
       "      <td>Chikka Tirupathi</td>\n",
       "      <td>4 Bedroom</td>\n",
       "      <td>2600</td>\n",
       "      <td>5.0</td>\n",
       "      <td>3.0</td>\n",
       "      <td>120.00</td>\n",
       "    </tr>\n",
       "    <tr>\n",
       "      <th>2</th>\n",
       "      <td>Built-up  Area</td>\n",
       "      <td>Ready To Move</td>\n",
       "      <td>Uttarahalli</td>\n",
       "      <td>3 BHK</td>\n",
       "      <td>1440</td>\n",
       "      <td>2.0</td>\n",
       "      <td>3.0</td>\n",
       "      <td>62.00</td>\n",
       "    </tr>\n",
       "    <tr>\n",
       "      <th>3</th>\n",
       "      <td>Super built-up  Area</td>\n",
       "      <td>Ready To Move</td>\n",
       "      <td>Lingadheeranahalli</td>\n",
       "      <td>3 BHK</td>\n",
       "      <td>1521</td>\n",
       "      <td>3.0</td>\n",
       "      <td>1.0</td>\n",
       "      <td>95.00</td>\n",
       "    </tr>\n",
       "    <tr>\n",
       "      <th>4</th>\n",
       "      <td>Super built-up  Area</td>\n",
       "      <td>Ready To Move</td>\n",
       "      <td>Kothanur</td>\n",
       "      <td>2 BHK</td>\n",
       "      <td>1200</td>\n",
       "      <td>2.0</td>\n",
       "      <td>1.0</td>\n",
       "      <td>51.00</td>\n",
       "    </tr>\n",
       "  </tbody>\n",
       "</table>\n",
       "</div>"
      ],
      "text/plain": [
       "              area_type   availability                  location       size  \\\n",
       "0  Super built-up  Area         19-Dec  Electronic City Phase II      2 BHK   \n",
       "1            Plot  Area  Ready To Move          Chikka Tirupathi  4 Bedroom   \n",
       "2        Built-up  Area  Ready To Move               Uttarahalli      3 BHK   \n",
       "3  Super built-up  Area  Ready To Move        Lingadheeranahalli      3 BHK   \n",
       "4  Super built-up  Area  Ready To Move                  Kothanur      2 BHK   \n",
       "\n",
       "  total_sqft  bath  balcony   price  \n",
       "0       1056   2.0      1.0   39.07  \n",
       "1       2600   5.0      3.0  120.00  \n",
       "2       1440   2.0      3.0   62.00  \n",
       "3       1521   3.0      1.0   95.00  \n",
       "4       1200   2.0      1.0   51.00  "
      ]
     },
     "execution_count": 382,
     "metadata": {},
     "output_type": "execute_result"
    }
   ],
   "source": [
    "data.head()"
   ]
  },
  {
   "cell_type": "code",
   "execution_count": 383,
   "id": "60a09267",
   "metadata": {},
   "outputs": [
    {
     "data": {
      "text/plain": [
       "(13320, 8)"
      ]
     },
     "execution_count": 383,
     "metadata": {},
     "output_type": "execute_result"
    }
   ],
   "source": [
    "data.shape"
   ]
  },
  {
   "cell_type": "code",
   "execution_count": 384,
   "id": "e8628b73",
   "metadata": {},
   "outputs": [
    {
     "data": {
      "text/html": [
       "<div>\n",
       "<style scoped>\n",
       "    .dataframe tbody tr th:only-of-type {\n",
       "        vertical-align: middle;\n",
       "    }\n",
       "\n",
       "    .dataframe tbody tr th {\n",
       "        vertical-align: top;\n",
       "    }\n",
       "\n",
       "    .dataframe thead th {\n",
       "        text-align: right;\n",
       "    }\n",
       "</style>\n",
       "<table border=\"1\" class=\"dataframe\">\n",
       "  <thead>\n",
       "    <tr style=\"text-align: right;\">\n",
       "      <th></th>\n",
       "      <th>bath</th>\n",
       "      <th>balcony</th>\n",
       "      <th>price</th>\n",
       "    </tr>\n",
       "  </thead>\n",
       "  <tbody>\n",
       "    <tr>\n",
       "      <th>count</th>\n",
       "      <td>13247.000000</td>\n",
       "      <td>12711.000000</td>\n",
       "      <td>13320.000000</td>\n",
       "    </tr>\n",
       "    <tr>\n",
       "      <th>mean</th>\n",
       "      <td>2.692610</td>\n",
       "      <td>1.584376</td>\n",
       "      <td>112.565627</td>\n",
       "    </tr>\n",
       "    <tr>\n",
       "      <th>std</th>\n",
       "      <td>1.341458</td>\n",
       "      <td>0.817263</td>\n",
       "      <td>148.971674</td>\n",
       "    </tr>\n",
       "    <tr>\n",
       "      <th>min</th>\n",
       "      <td>1.000000</td>\n",
       "      <td>0.000000</td>\n",
       "      <td>8.000000</td>\n",
       "    </tr>\n",
       "    <tr>\n",
       "      <th>25%</th>\n",
       "      <td>2.000000</td>\n",
       "      <td>1.000000</td>\n",
       "      <td>50.000000</td>\n",
       "    </tr>\n",
       "    <tr>\n",
       "      <th>50%</th>\n",
       "      <td>2.000000</td>\n",
       "      <td>2.000000</td>\n",
       "      <td>72.000000</td>\n",
       "    </tr>\n",
       "    <tr>\n",
       "      <th>75%</th>\n",
       "      <td>3.000000</td>\n",
       "      <td>2.000000</td>\n",
       "      <td>120.000000</td>\n",
       "    </tr>\n",
       "    <tr>\n",
       "      <th>max</th>\n",
       "      <td>40.000000</td>\n",
       "      <td>3.000000</td>\n",
       "      <td>3600.000000</td>\n",
       "    </tr>\n",
       "  </tbody>\n",
       "</table>\n",
       "</div>"
      ],
      "text/plain": [
       "               bath       balcony         price\n",
       "count  13247.000000  12711.000000  13320.000000\n",
       "mean       2.692610      1.584376    112.565627\n",
       "std        1.341458      0.817263    148.971674\n",
       "min        1.000000      0.000000      8.000000\n",
       "25%        2.000000      1.000000     50.000000\n",
       "50%        2.000000      2.000000     72.000000\n",
       "75%        3.000000      2.000000    120.000000\n",
       "max       40.000000      3.000000   3600.000000"
      ]
     },
     "execution_count": 384,
     "metadata": {},
     "output_type": "execute_result"
    }
   ],
   "source": [
    "data.describe()"
   ]
  },
  {
   "cell_type": "code",
   "execution_count": 385,
   "id": "6c1875a4",
   "metadata": {},
   "outputs": [
    {
     "data": {
      "text/plain": [
       "area_type         0\n",
       "availability      0\n",
       "location          1\n",
       "size             16\n",
       "total_sqft        0\n",
       "bath             73\n",
       "balcony         609\n",
       "price             0\n",
       "dtype: int64"
      ]
     },
     "execution_count": 385,
     "metadata": {},
     "output_type": "execute_result"
    }
   ],
   "source": [
    "data.isnull().sum()"
   ]
  },
  {
   "cell_type": "code",
   "execution_count": 386,
   "id": "f0e4c273",
   "metadata": {},
   "outputs": [
    {
     "data": {
      "text/plain": [
       "Super built-up  Area    8790\n",
       "Built-up  Area          2418\n",
       "Plot  Area              2025\n",
       "Carpet  Area              87\n",
       "Name: area_type, dtype: int64"
      ]
     },
     "execution_count": 386,
     "metadata": {},
     "output_type": "execute_result"
    }
   ],
   "source": [
    "data['area_type'].value_counts()"
   ]
  },
  {
   "cell_type": "code",
   "execution_count": 387,
   "id": "2851c02b",
   "metadata": {},
   "outputs": [],
   "source": [
    "new_dummy_data = []\n",
    "for value in data['area_type'].values:\n",
    "    if value == 'Super built-up  Area':\n",
    "        new_dummy_data.append(1)\n",
    "    elif value == 'Built-up  Area':\n",
    "        new_dummy_data.append(2)\n",
    "    elif value == 'Plot  Area':\n",
    "        new_dummy_data.append(3)\n",
    "    else:\n",
    "        new_dummy_data.append(4)\n",
    "        \n",
    "data['area_type'] = new_dummy_data"
   ]
  },
  {
   "cell_type": "code",
   "execution_count": 388,
   "id": "1d579acb",
   "metadata": {},
   "outputs": [
    {
     "data": {
      "text/plain": [
       "1    8790\n",
       "2    2418\n",
       "3    2025\n",
       "4      87\n",
       "Name: area_type, dtype: int64"
      ]
     },
     "execution_count": 388,
     "metadata": {},
     "output_type": "execute_result"
    }
   ],
   "source": [
    "data['area_type'].value_counts()"
   ]
  },
  {
   "cell_type": "code",
   "execution_count": 389,
   "id": "823a321e",
   "metadata": {},
   "outputs": [
    {
     "data": {
      "text/plain": [
       "Ready To Move    10581\n",
       "18-Dec             307\n",
       "18-May             295\n",
       "18-Apr             271\n",
       "18-Aug             200\n",
       "                 ...  \n",
       "15-Aug               1\n",
       "17-Jan               1\n",
       "16-Nov               1\n",
       "16-Jan               1\n",
       "14-Jul               1\n",
       "Name: availability, Length: 81, dtype: int64"
      ]
     },
     "execution_count": 389,
     "metadata": {},
     "output_type": "execute_result"
    }
   ],
   "source": [
    "data['availability'].value_counts()"
   ]
  },
  {
   "cell_type": "code",
   "execution_count": 390,
   "id": "27b468a8",
   "metadata": {},
   "outputs": [],
   "source": [
    "data['availability'] = data['availability'].apply(lambda x:  1 if  x == 'Ready To Move' else 0)\n",
    "\n",
    "\n",
    "\n",
    "#ALTERNATIVES:\n",
    "\n",
    "#dataset['availability'] = dataset['availability'].map({1: 'Ready To Move', 0: ...})\n",
    "\n",
    "#if you want to use a for loop:\n",
    "\n",
    "#new_dummy_data = []\n",
    "\n",
    "#for value in df.y.values:\n",
    "#    if value == 'Accepted':\n",
    "#        new_dummy_data.append(1)\n",
    "#    else:\n",
    "#        new_dummy_data.append(0)\n",
    "\n",
    "#df['dummy'] = new_dummy_data\n"
   ]
  },
  {
   "cell_type": "code",
   "execution_count": 391,
   "id": "fc362703",
   "metadata": {},
   "outputs": [
    {
     "data": {
      "text/plain": [
       "1    10581\n",
       "0     2739\n",
       "Name: availability, dtype: int64"
      ]
     },
     "execution_count": 391,
     "metadata": {},
     "output_type": "execute_result"
    }
   ],
   "source": [
    "data['availability'].value_counts()"
   ]
  },
  {
   "cell_type": "code",
   "execution_count": 392,
   "id": "98b6d206",
   "metadata": {},
   "outputs": [
    {
     "data": {
      "text/html": [
       "<div>\n",
       "<style scoped>\n",
       "    .dataframe tbody tr th:only-of-type {\n",
       "        vertical-align: middle;\n",
       "    }\n",
       "\n",
       "    .dataframe tbody tr th {\n",
       "        vertical-align: top;\n",
       "    }\n",
       "\n",
       "    .dataframe thead th {\n",
       "        text-align: right;\n",
       "    }\n",
       "</style>\n",
       "<table border=\"1\" class=\"dataframe\">\n",
       "  <thead>\n",
       "    <tr style=\"text-align: right;\">\n",
       "      <th></th>\n",
       "      <th>area_type</th>\n",
       "      <th>availability</th>\n",
       "      <th>location</th>\n",
       "      <th>size</th>\n",
       "      <th>total_sqft</th>\n",
       "      <th>bath</th>\n",
       "      <th>balcony</th>\n",
       "      <th>price</th>\n",
       "    </tr>\n",
       "  </thead>\n",
       "  <tbody>\n",
       "    <tr>\n",
       "      <th>0</th>\n",
       "      <td>1</td>\n",
       "      <td>0</td>\n",
       "      <td>Electronic City Phase II</td>\n",
       "      <td>2 BHK</td>\n",
       "      <td>1056</td>\n",
       "      <td>2.0</td>\n",
       "      <td>1.0</td>\n",
       "      <td>39.07</td>\n",
       "    </tr>\n",
       "    <tr>\n",
       "      <th>1</th>\n",
       "      <td>3</td>\n",
       "      <td>1</td>\n",
       "      <td>Chikka Tirupathi</td>\n",
       "      <td>4 Bedroom</td>\n",
       "      <td>2600</td>\n",
       "      <td>5.0</td>\n",
       "      <td>3.0</td>\n",
       "      <td>120.00</td>\n",
       "    </tr>\n",
       "    <tr>\n",
       "      <th>2</th>\n",
       "      <td>2</td>\n",
       "      <td>1</td>\n",
       "      <td>Uttarahalli</td>\n",
       "      <td>3 BHK</td>\n",
       "      <td>1440</td>\n",
       "      <td>2.0</td>\n",
       "      <td>3.0</td>\n",
       "      <td>62.00</td>\n",
       "    </tr>\n",
       "    <tr>\n",
       "      <th>3</th>\n",
       "      <td>1</td>\n",
       "      <td>1</td>\n",
       "      <td>Lingadheeranahalli</td>\n",
       "      <td>3 BHK</td>\n",
       "      <td>1521</td>\n",
       "      <td>3.0</td>\n",
       "      <td>1.0</td>\n",
       "      <td>95.00</td>\n",
       "    </tr>\n",
       "    <tr>\n",
       "      <th>4</th>\n",
       "      <td>1</td>\n",
       "      <td>1</td>\n",
       "      <td>Kothanur</td>\n",
       "      <td>2 BHK</td>\n",
       "      <td>1200</td>\n",
       "      <td>2.0</td>\n",
       "      <td>1.0</td>\n",
       "      <td>51.00</td>\n",
       "    </tr>\n",
       "  </tbody>\n",
       "</table>\n",
       "</div>"
      ],
      "text/plain": [
       "   area_type  availability                  location       size total_sqft  \\\n",
       "0          1             0  Electronic City Phase II      2 BHK       1056   \n",
       "1          3             1          Chikka Tirupathi  4 Bedroom       2600   \n",
       "2          2             1               Uttarahalli      3 BHK       1440   \n",
       "3          1             1        Lingadheeranahalli      3 BHK       1521   \n",
       "4          1             1                  Kothanur      2 BHK       1200   \n",
       "\n",
       "   bath  balcony   price  \n",
       "0   2.0      1.0   39.07  \n",
       "1   5.0      3.0  120.00  \n",
       "2   2.0      3.0   62.00  \n",
       "3   3.0      1.0   95.00  \n",
       "4   2.0      1.0   51.00  "
      ]
     },
     "execution_count": 392,
     "metadata": {},
     "output_type": "execute_result"
    }
   ],
   "source": [
    "data.head()"
   ]
  },
  {
   "cell_type": "code",
   "execution_count": 393,
   "id": "87e03f5c",
   "metadata": {},
   "outputs": [
    {
     "data": {
      "text/plain": [
       "Whitefield                        540\n",
       "Sarjapur  Road                    399\n",
       "Electronic City                   302\n",
       "Kanakpura Road                    273\n",
       "Thanisandra                       234\n",
       "                                 ... \n",
       "Bapuji Layout                       1\n",
       "1st Stage Radha Krishna Layout      1\n",
       "BEML Layout 5th stage               1\n",
       "singapura paradise                  1\n",
       "Abshot Layout                       1\n",
       "Name: location, Length: 1305, dtype: int64"
      ]
     },
     "execution_count": 393,
     "metadata": {},
     "output_type": "execute_result"
    }
   ],
   "source": [
    "data['location'].value_counts()"
   ]
  },
  {
   "cell_type": "code",
   "execution_count": 394,
   "id": "ec1b0945",
   "metadata": {},
   "outputs": [],
   "source": [
    "#There are 1305 location and we don't have enough information on how the location affects the price, we just drop the location\n",
    "data.drop(columns='location',inplace=True)"
   ]
  },
  {
   "cell_type": "code",
   "execution_count": 395,
   "id": "b3f57348",
   "metadata": {},
   "outputs": [
    {
     "data": {
      "text/html": [
       "<div>\n",
       "<style scoped>\n",
       "    .dataframe tbody tr th:only-of-type {\n",
       "        vertical-align: middle;\n",
       "    }\n",
       "\n",
       "    .dataframe tbody tr th {\n",
       "        vertical-align: top;\n",
       "    }\n",
       "\n",
       "    .dataframe thead th {\n",
       "        text-align: right;\n",
       "    }\n",
       "</style>\n",
       "<table border=\"1\" class=\"dataframe\">\n",
       "  <thead>\n",
       "    <tr style=\"text-align: right;\">\n",
       "      <th></th>\n",
       "      <th>area_type</th>\n",
       "      <th>availability</th>\n",
       "      <th>size</th>\n",
       "      <th>total_sqft</th>\n",
       "      <th>bath</th>\n",
       "      <th>balcony</th>\n",
       "      <th>price</th>\n",
       "    </tr>\n",
       "  </thead>\n",
       "  <tbody>\n",
       "    <tr>\n",
       "      <th>0</th>\n",
       "      <td>1</td>\n",
       "      <td>0</td>\n",
       "      <td>2 BHK</td>\n",
       "      <td>1056</td>\n",
       "      <td>2.0</td>\n",
       "      <td>1.0</td>\n",
       "      <td>39.07</td>\n",
       "    </tr>\n",
       "    <tr>\n",
       "      <th>1</th>\n",
       "      <td>3</td>\n",
       "      <td>1</td>\n",
       "      <td>4 Bedroom</td>\n",
       "      <td>2600</td>\n",
       "      <td>5.0</td>\n",
       "      <td>3.0</td>\n",
       "      <td>120.00</td>\n",
       "    </tr>\n",
       "    <tr>\n",
       "      <th>2</th>\n",
       "      <td>2</td>\n",
       "      <td>1</td>\n",
       "      <td>3 BHK</td>\n",
       "      <td>1440</td>\n",
       "      <td>2.0</td>\n",
       "      <td>3.0</td>\n",
       "      <td>62.00</td>\n",
       "    </tr>\n",
       "    <tr>\n",
       "      <th>3</th>\n",
       "      <td>1</td>\n",
       "      <td>1</td>\n",
       "      <td>3 BHK</td>\n",
       "      <td>1521</td>\n",
       "      <td>3.0</td>\n",
       "      <td>1.0</td>\n",
       "      <td>95.00</td>\n",
       "    </tr>\n",
       "    <tr>\n",
       "      <th>4</th>\n",
       "      <td>1</td>\n",
       "      <td>1</td>\n",
       "      <td>2 BHK</td>\n",
       "      <td>1200</td>\n",
       "      <td>2.0</td>\n",
       "      <td>1.0</td>\n",
       "      <td>51.00</td>\n",
       "    </tr>\n",
       "  </tbody>\n",
       "</table>\n",
       "</div>"
      ],
      "text/plain": [
       "   area_type  availability       size total_sqft  bath  balcony   price\n",
       "0          1             0      2 BHK       1056   2.0      1.0   39.07\n",
       "1          3             1  4 Bedroom       2600   5.0      3.0  120.00\n",
       "2          2             1      3 BHK       1440   2.0      3.0   62.00\n",
       "3          1             1      3 BHK       1521   3.0      1.0   95.00\n",
       "4          1             1      2 BHK       1200   2.0      1.0   51.00"
      ]
     },
     "execution_count": 395,
     "metadata": {},
     "output_type": "execute_result"
    }
   ],
   "source": [
    "data.head()"
   ]
  },
  {
   "cell_type": "code",
   "execution_count": 396,
   "id": "cda70d2c",
   "metadata": {},
   "outputs": [
    {
     "data": {
      "text/plain": [
       "2 BHK         5199\n",
       "3 BHK         4310\n",
       "4 Bedroom      826\n",
       "4 BHK          591\n",
       "3 Bedroom      547\n",
       "1 BHK          538\n",
       "2 Bedroom      329\n",
       "5 Bedroom      297\n",
       "6 Bedroom      191\n",
       "1 Bedroom      105\n",
       "8 Bedroom       84\n",
       "7 Bedroom       83\n",
       "5 BHK           59\n",
       "9 Bedroom       46\n",
       "6 BHK           30\n",
       "7 BHK           17\n",
       "1 RK            13\n",
       "10 Bedroom      12\n",
       "9 BHK            8\n",
       "8 BHK            5\n",
       "11 BHK           2\n",
       "11 Bedroom       2\n",
       "10 BHK           2\n",
       "14 BHK           1\n",
       "13 BHK           1\n",
       "12 Bedroom       1\n",
       "27 BHK           1\n",
       "43 Bedroom       1\n",
       "16 BHK           1\n",
       "19 BHK           1\n",
       "18 Bedroom       1\n",
       "Name: size, dtype: int64"
      ]
     },
     "execution_count": 396,
     "metadata": {},
     "output_type": "execute_result"
    }
   ],
   "source": [
    "data['size'].value_counts()"
   ]
  },
  {
   "cell_type": "code",
   "execution_count": null,
   "id": "6cfc51cb",
   "metadata": {},
   "outputs": [],
   "source": []
  },
  {
   "cell_type": "code",
   "execution_count": 397,
   "id": "a9fa0fdd",
   "metadata": {},
   "outputs": [],
   "source": [
    "new_dummy_data = []\n",
    "data['size'] = data['size'].apply(str)\n",
    "data['size'] = data['size'].replace(np.nan, 0)\n",
    "for value in data['size'].values:\n",
    "    if value== 'nan':\n",
    "        new_dummy_data.append(0)\n",
    "    if ('1 ' in value) and not('11 ' in value):\n",
    "        new_dummy_data.append(1)\n",
    "    if ('2 ' in value) and not('12 ' in value):\n",
    "        new_dummy_data.append(2)\n",
    "    if ('3 ' in value) and not('13 ' in value):\n",
    "        new_dummy_data.append(3)\n",
    "    if ('4 ' in value) and not('14 ' in value):\n",
    "        new_dummy_data.append(4)\n",
    "    if ('5 ' in value) and not('15 ' in value):\n",
    "        new_dummy_data.append(5)\n",
    "    if ('6 ' in value) and not('16 ' in value):\n",
    "        new_dummy_data.append(6)\n",
    "    if ('7 ' in value) and not('17 ' in value):\n",
    "        new_dummy_data.append(7)\n",
    "    if ('8 ' in value) and not('18 ' in value):\n",
    "        new_dummy_data.append(8)\n",
    "    if ('9 ' in value) and not('19 ' in value):\n",
    "        new_dummy_data.append(9)\n",
    "    if ('10 ' in value):\n",
    "        new_dummy_data.append(10)\n",
    "    if ('11 ' in value):\n",
    "        new_dummy_data.append(11)\n",
    "    if ('12 ' in value):\n",
    "        new_dummy_data.append(12)\n",
    "    if ('13 ' in value):\n",
    "        new_dummy_data.append(13)\n",
    "    if ('14 ' in value):\n",
    "        new_dummy_data.append(14)\n",
    "    if ('15 ' in value):\n",
    "        new_dummy_data.append(15)\n",
    "    if ('16 ' in value):\n",
    "        new_dummy_data.append(16)\n",
    "    if ('17 ' in value):\n",
    "        new_dummy_data.append(17)\n",
    "    if ('18 ' in value):\n",
    "        new_dummy_data.append(18)\n",
    "    if ('19 ' in value):\n",
    "        new_dummy_data.append(19)\n",
    "data['size'] = new_dummy_data"
   ]
  },
  {
   "cell_type": "code",
   "execution_count": 398,
   "id": "61a1efd3",
   "metadata": {},
   "outputs": [
    {
     "data": {
      "text/plain": [
       "2     5528\n",
       "3     4858\n",
       "4     1417\n",
       "1      656\n",
       "5      356\n",
       "6      221\n",
       "7      101\n",
       "8       89\n",
       "9       54\n",
       "0       16\n",
       "10      14\n",
       "11       4\n",
       "19       1\n",
       "16       1\n",
       "14       1\n",
       "12       1\n",
       "13       1\n",
       "18       1\n",
       "Name: size, dtype: int64"
      ]
     },
     "execution_count": 398,
     "metadata": {},
     "output_type": "execute_result"
    }
   ],
   "source": [
    "data['size'].value_counts()"
   ]
  },
  {
   "cell_type": "code",
   "execution_count": 399,
   "id": "a5db732b",
   "metadata": {},
   "outputs": [
    {
     "data": {
      "text/html": [
       "<div>\n",
       "<style scoped>\n",
       "    .dataframe tbody tr th:only-of-type {\n",
       "        vertical-align: middle;\n",
       "    }\n",
       "\n",
       "    .dataframe tbody tr th {\n",
       "        vertical-align: top;\n",
       "    }\n",
       "\n",
       "    .dataframe thead th {\n",
       "        text-align: right;\n",
       "    }\n",
       "</style>\n",
       "<table border=\"1\" class=\"dataframe\">\n",
       "  <thead>\n",
       "    <tr style=\"text-align: right;\">\n",
       "      <th></th>\n",
       "      <th>area_type</th>\n",
       "      <th>availability</th>\n",
       "      <th>size</th>\n",
       "      <th>total_sqft</th>\n",
       "      <th>bath</th>\n",
       "      <th>balcony</th>\n",
       "      <th>price</th>\n",
       "    </tr>\n",
       "  </thead>\n",
       "  <tbody>\n",
       "    <tr>\n",
       "      <th>0</th>\n",
       "      <td>1</td>\n",
       "      <td>0</td>\n",
       "      <td>2</td>\n",
       "      <td>1056</td>\n",
       "      <td>2.0</td>\n",
       "      <td>1.0</td>\n",
       "      <td>39.07</td>\n",
       "    </tr>\n",
       "    <tr>\n",
       "      <th>1</th>\n",
       "      <td>3</td>\n",
       "      <td>1</td>\n",
       "      <td>4</td>\n",
       "      <td>2600</td>\n",
       "      <td>5.0</td>\n",
       "      <td>3.0</td>\n",
       "      <td>120.00</td>\n",
       "    </tr>\n",
       "    <tr>\n",
       "      <th>2</th>\n",
       "      <td>2</td>\n",
       "      <td>1</td>\n",
       "      <td>3</td>\n",
       "      <td>1440</td>\n",
       "      <td>2.0</td>\n",
       "      <td>3.0</td>\n",
       "      <td>62.00</td>\n",
       "    </tr>\n",
       "    <tr>\n",
       "      <th>3</th>\n",
       "      <td>1</td>\n",
       "      <td>1</td>\n",
       "      <td>3</td>\n",
       "      <td>1521</td>\n",
       "      <td>3.0</td>\n",
       "      <td>1.0</td>\n",
       "      <td>95.00</td>\n",
       "    </tr>\n",
       "    <tr>\n",
       "      <th>4</th>\n",
       "      <td>1</td>\n",
       "      <td>1</td>\n",
       "      <td>2</td>\n",
       "      <td>1200</td>\n",
       "      <td>2.0</td>\n",
       "      <td>1.0</td>\n",
       "      <td>51.00</td>\n",
       "    </tr>\n",
       "  </tbody>\n",
       "</table>\n",
       "</div>"
      ],
      "text/plain": [
       "   area_type  availability  size total_sqft  bath  balcony   price\n",
       "0          1             0     2       1056   2.0      1.0   39.07\n",
       "1          3             1     4       2600   5.0      3.0  120.00\n",
       "2          2             1     3       1440   2.0      3.0   62.00\n",
       "3          1             1     3       1521   3.0      1.0   95.00\n",
       "4          1             1     2       1200   2.0      1.0   51.00"
      ]
     },
     "execution_count": 399,
     "metadata": {},
     "output_type": "execute_result"
    }
   ],
   "source": [
    "data.head()"
   ]
  },
  {
   "cell_type": "code",
   "execution_count": 400,
   "id": "af159a11",
   "metadata": {},
   "outputs": [],
   "source": [
    "data=data[data['size'] != 0]"
   ]
  },
  {
   "cell_type": "code",
   "execution_count": null,
   "id": "40ea7a9c",
   "metadata": {},
   "outputs": [],
   "source": []
  },
  {
   "cell_type": "code",
   "execution_count": 401,
   "id": "3b47b300",
   "metadata": {},
   "outputs": [],
   "source": [
    "data.rename(columns={'size': 'Bedrooms',\n",
    "                   'area_type': 'Area Type',\n",
    "                   'availability': 'Availability',\n",
    "                   'price': 'Price',\n",
    "                   'total_sqft': 'Area Size (Square Feet)',\n",
    "                   'bath': 'Bath',\n",
    "                   'balcony': 'Balcony'}, inplace=True, errors='raise')"
   ]
  },
  {
   "cell_type": "code",
   "execution_count": 402,
   "id": "9cdb303f",
   "metadata": {},
   "outputs": [
    {
     "data": {
      "text/html": [
       "<div>\n",
       "<style scoped>\n",
       "    .dataframe tbody tr th:only-of-type {\n",
       "        vertical-align: middle;\n",
       "    }\n",
       "\n",
       "    .dataframe tbody tr th {\n",
       "        vertical-align: top;\n",
       "    }\n",
       "\n",
       "    .dataframe thead th {\n",
       "        text-align: right;\n",
       "    }\n",
       "</style>\n",
       "<table border=\"1\" class=\"dataframe\">\n",
       "  <thead>\n",
       "    <tr style=\"text-align: right;\">\n",
       "      <th></th>\n",
       "      <th>Area Type</th>\n",
       "      <th>Availability</th>\n",
       "      <th>Bedrooms</th>\n",
       "      <th>Area Size (Square Feet)</th>\n",
       "      <th>Bath</th>\n",
       "      <th>Balcony</th>\n",
       "      <th>Price</th>\n",
       "    </tr>\n",
       "  </thead>\n",
       "  <tbody>\n",
       "    <tr>\n",
       "      <th>0</th>\n",
       "      <td>1</td>\n",
       "      <td>0</td>\n",
       "      <td>2</td>\n",
       "      <td>1056</td>\n",
       "      <td>2.0</td>\n",
       "      <td>1.0</td>\n",
       "      <td>39.07</td>\n",
       "    </tr>\n",
       "    <tr>\n",
       "      <th>1</th>\n",
       "      <td>3</td>\n",
       "      <td>1</td>\n",
       "      <td>4</td>\n",
       "      <td>2600</td>\n",
       "      <td>5.0</td>\n",
       "      <td>3.0</td>\n",
       "      <td>120.00</td>\n",
       "    </tr>\n",
       "    <tr>\n",
       "      <th>2</th>\n",
       "      <td>2</td>\n",
       "      <td>1</td>\n",
       "      <td>3</td>\n",
       "      <td>1440</td>\n",
       "      <td>2.0</td>\n",
       "      <td>3.0</td>\n",
       "      <td>62.00</td>\n",
       "    </tr>\n",
       "    <tr>\n",
       "      <th>3</th>\n",
       "      <td>1</td>\n",
       "      <td>1</td>\n",
       "      <td>3</td>\n",
       "      <td>1521</td>\n",
       "      <td>3.0</td>\n",
       "      <td>1.0</td>\n",
       "      <td>95.00</td>\n",
       "    </tr>\n",
       "    <tr>\n",
       "      <th>4</th>\n",
       "      <td>1</td>\n",
       "      <td>1</td>\n",
       "      <td>2</td>\n",
       "      <td>1200</td>\n",
       "      <td>2.0</td>\n",
       "      <td>1.0</td>\n",
       "      <td>51.00</td>\n",
       "    </tr>\n",
       "  </tbody>\n",
       "</table>\n",
       "</div>"
      ],
      "text/plain": [
       "   Area Type  Availability  Bedrooms Area Size (Square Feet)  Bath  Balcony  \\\n",
       "0          1             0         2                    1056   2.0      1.0   \n",
       "1          3             1         4                    2600   5.0      3.0   \n",
       "2          2             1         3                    1440   2.0      3.0   \n",
       "3          1             1         3                    1521   3.0      1.0   \n",
       "4          1             1         2                    1200   2.0      1.0   \n",
       "\n",
       "    Price  \n",
       "0   39.07  \n",
       "1  120.00  \n",
       "2   62.00  \n",
       "3   95.00  \n",
       "4   51.00  "
      ]
     },
     "execution_count": 402,
     "metadata": {},
     "output_type": "execute_result"
    }
   ],
   "source": [
    "data.head()"
   ]
  },
  {
   "cell_type": "code",
   "execution_count": 403,
   "id": "74425275",
   "metadata": {},
   "outputs": [
    {
     "data": {
      "text/plain": [
       "Area Type                    int64\n",
       "Availability                 int64\n",
       "Bedrooms                     int64\n",
       "Area Size (Square Feet)     object\n",
       "Bath                       float64\n",
       "Balcony                    float64\n",
       "Price                      float64\n",
       "dtype: object"
      ]
     },
     "execution_count": 403,
     "metadata": {},
     "output_type": "execute_result"
    }
   ],
   "source": [
    "# lets also make sure about the data types\n",
    "data.dtypes"
   ]
  },
  {
   "cell_type": "markdown",
   "id": "e30ac78f",
   "metadata": {},
   "source": [
    "So, lets fix the Area size data type. After facing several errors when trying to change the Area Size column to numeric values, it seems the the data in the column is TERRIBLY DIRTY! So, let's clean it here! "
   ]
  },
  {
   "cell_type": "code",
   "execution_count": 404,
   "id": "ced0e4b7",
   "metadata": {},
   "outputs": [],
   "source": [
    "data=data[ data[ 'Area Size (Square Feet)' ].str.contains( '-' )==False ]\n",
    "data=data[ data[ 'Area Size (Square Feet)' ].str.contains( 'q' )==False ]\n",
    "data=data[ data[ 'Area Size (Square Feet)' ].str.contains( 'e' )==False ]\n",
    "data=data[ data[ 'Area Size (Square Feet)' ].str.contains( 'a' )==False ]\n",
    "data=data[ data[ 'Area Size (Square Feet)' ].str.contains( 's' )==False ]\n",
    "#After cleaning the data, finally the following code works without error! \n",
    "data[['Area Size (Square Feet)']] = data[['Area Size (Square Feet)']].apply(pd.to_numeric)\n",
    "\n"
   ]
  },
  {
   "cell_type": "code",
   "execution_count": 405,
   "id": "04427834",
   "metadata": {},
   "outputs": [
    {
     "data": {
      "text/html": [
       "<div>\n",
       "<style scoped>\n",
       "    .dataframe tbody tr th:only-of-type {\n",
       "        vertical-align: middle;\n",
       "    }\n",
       "\n",
       "    .dataframe tbody tr th {\n",
       "        vertical-align: top;\n",
       "    }\n",
       "\n",
       "    .dataframe thead th {\n",
       "        text-align: right;\n",
       "    }\n",
       "</style>\n",
       "<table border=\"1\" class=\"dataframe\">\n",
       "  <thead>\n",
       "    <tr style=\"text-align: right;\">\n",
       "      <th></th>\n",
       "      <th>Area Type</th>\n",
       "      <th>Availability</th>\n",
       "      <th>Bedrooms</th>\n",
       "      <th>Area Size (Square Feet)</th>\n",
       "      <th>Bath</th>\n",
       "      <th>Balcony</th>\n",
       "      <th>Price</th>\n",
       "    </tr>\n",
       "  </thead>\n",
       "  <tbody>\n",
       "    <tr>\n",
       "      <th>count</th>\n",
       "      <td>13065.000000</td>\n",
       "      <td>13065.000000</td>\n",
       "      <td>13065.000000</td>\n",
       "      <td>13065.000000</td>\n",
       "      <td>13057.000000</td>\n",
       "      <td>12525.000000</td>\n",
       "      <td>13065.000000</td>\n",
       "    </tr>\n",
       "    <tr>\n",
       "      <th>mean</th>\n",
       "      <td>1.506391</td>\n",
       "      <td>0.802449</td>\n",
       "      <td>2.800536</td>\n",
       "      <td>1554.546892</td>\n",
       "      <td>2.691966</td>\n",
       "      <td>1.603912</td>\n",
       "      <td>112.514048</td>\n",
       "    </tr>\n",
       "    <tr>\n",
       "      <th>std</th>\n",
       "      <td>0.769407</td>\n",
       "      <td>0.398166</td>\n",
       "      <td>1.227498</td>\n",
       "      <td>1238.422934</td>\n",
       "      <td>1.335985</td>\n",
       "      <td>0.803419</td>\n",
       "      <td>149.662725</td>\n",
       "    </tr>\n",
       "    <tr>\n",
       "      <th>min</th>\n",
       "      <td>1.000000</td>\n",
       "      <td>0.000000</td>\n",
       "      <td>1.000000</td>\n",
       "      <td>1.000000</td>\n",
       "      <td>1.000000</td>\n",
       "      <td>0.000000</td>\n",
       "      <td>8.000000</td>\n",
       "    </tr>\n",
       "    <tr>\n",
       "      <th>25%</th>\n",
       "      <td>1.000000</td>\n",
       "      <td>1.000000</td>\n",
       "      <td>2.000000</td>\n",
       "      <td>1100.000000</td>\n",
       "      <td>2.000000</td>\n",
       "      <td>1.000000</td>\n",
       "      <td>50.000000</td>\n",
       "    </tr>\n",
       "    <tr>\n",
       "      <th>50%</th>\n",
       "      <td>1.000000</td>\n",
       "      <td>1.000000</td>\n",
       "      <td>3.000000</td>\n",
       "      <td>1275.000000</td>\n",
       "      <td>2.000000</td>\n",
       "      <td>2.000000</td>\n",
       "      <td>72.000000</td>\n",
       "    </tr>\n",
       "    <tr>\n",
       "      <th>75%</th>\n",
       "      <td>2.000000</td>\n",
       "      <td>1.000000</td>\n",
       "      <td>3.000000</td>\n",
       "      <td>1670.000000</td>\n",
       "      <td>3.000000</td>\n",
       "      <td>2.000000</td>\n",
       "      <td>120.000000</td>\n",
       "    </tr>\n",
       "    <tr>\n",
       "      <th>max</th>\n",
       "      <td>4.000000</td>\n",
       "      <td>1.000000</td>\n",
       "      <td>19.000000</td>\n",
       "      <td>52272.000000</td>\n",
       "      <td>40.000000</td>\n",
       "      <td>3.000000</td>\n",
       "      <td>3600.000000</td>\n",
       "    </tr>\n",
       "  </tbody>\n",
       "</table>\n",
       "</div>"
      ],
      "text/plain": [
       "          Area Type  Availability      Bedrooms  Area Size (Square Feet)  \\\n",
       "count  13065.000000  13065.000000  13065.000000             13065.000000   \n",
       "mean       1.506391      0.802449      2.800536              1554.546892   \n",
       "std        0.769407      0.398166      1.227498              1238.422934   \n",
       "min        1.000000      0.000000      1.000000                 1.000000   \n",
       "25%        1.000000      1.000000      2.000000              1100.000000   \n",
       "50%        1.000000      1.000000      3.000000              1275.000000   \n",
       "75%        2.000000      1.000000      3.000000              1670.000000   \n",
       "max        4.000000      1.000000     19.000000             52272.000000   \n",
       "\n",
       "               Bath       Balcony         Price  \n",
       "count  13057.000000  12525.000000  13065.000000  \n",
       "mean       2.691966      1.603912    112.514048  \n",
       "std        1.335985      0.803419    149.662725  \n",
       "min        1.000000      0.000000      8.000000  \n",
       "25%        2.000000      1.000000     50.000000  \n",
       "50%        2.000000      2.000000     72.000000  \n",
       "75%        3.000000      2.000000    120.000000  \n",
       "max       40.000000      3.000000   3600.000000  "
      ]
     },
     "execution_count": 405,
     "metadata": {},
     "output_type": "execute_result"
    }
   ],
   "source": [
    "data.describe()"
   ]
  },
  {
   "cell_type": "code",
   "execution_count": 406,
   "id": "fd460c4c",
   "metadata": {},
   "outputs": [
    {
     "data": {
      "text/plain": [
       "Area Type                    0\n",
       "Availability                 0\n",
       "Bedrooms                     0\n",
       "Area Size (Square Feet)      0\n",
       "Bath                         8\n",
       "Balcony                    540\n",
       "Price                        0\n",
       "dtype: int64"
      ]
     },
     "execution_count": 406,
     "metadata": {},
     "output_type": "execute_result"
    }
   ],
   "source": [
    "data.isnull().sum()"
   ]
  },
  {
   "cell_type": "code",
   "execution_count": 407,
   "id": "388a12b3",
   "metadata": {},
   "outputs": [],
   "source": [
    "data=data[data['Balcony'].notna()] "
   ]
  },
  {
   "cell_type": "code",
   "execution_count": 408,
   "id": "8de5e09b",
   "metadata": {},
   "outputs": [
    {
     "data": {
      "text/plain": [
       "Area Type                  0\n",
       "Availability               0\n",
       "Bedrooms                   0\n",
       "Area Size (Square Feet)    0\n",
       "Bath                       0\n",
       "Balcony                    0\n",
       "Price                      0\n",
       "dtype: int64"
      ]
     },
     "execution_count": 408,
     "metadata": {},
     "output_type": "execute_result"
    }
   ],
   "source": [
    "data.isnull().sum()"
   ]
  },
  {
   "cell_type": "markdown",
   "id": "5090ebf0",
   "metadata": {},
   "source": [
    "Great, now we do not have any null values! (But we could also replace them with mean or ...)\n"
   ]
  },
  {
   "cell_type": "code",
   "execution_count": 409,
   "id": "e976dda7",
   "metadata": {},
   "outputs": [
    {
     "data": {
      "text/html": [
       "<div>\n",
       "<style scoped>\n",
       "    .dataframe tbody tr th:only-of-type {\n",
       "        vertical-align: middle;\n",
       "    }\n",
       "\n",
       "    .dataframe tbody tr th {\n",
       "        vertical-align: top;\n",
       "    }\n",
       "\n",
       "    .dataframe thead th {\n",
       "        text-align: right;\n",
       "    }\n",
       "</style>\n",
       "<table border=\"1\" class=\"dataframe\">\n",
       "  <thead>\n",
       "    <tr style=\"text-align: right;\">\n",
       "      <th></th>\n",
       "      <th>Area Type</th>\n",
       "      <th>Availability</th>\n",
       "      <th>Bedrooms</th>\n",
       "      <th>Area Size (Square Feet)</th>\n",
       "      <th>Bath</th>\n",
       "      <th>Balcony</th>\n",
       "      <th>Price</th>\n",
       "    </tr>\n",
       "  </thead>\n",
       "  <tbody>\n",
       "    <tr>\n",
       "      <th>Area Type</th>\n",
       "      <td>1.000000</td>\n",
       "      <td>0.137785</td>\n",
       "      <td>0.392778</td>\n",
       "      <td>0.092378</td>\n",
       "      <td>0.336104</td>\n",
       "      <td>-0.140155</td>\n",
       "      <td>0.245717</td>\n",
       "    </tr>\n",
       "    <tr>\n",
       "      <th>Availability</th>\n",
       "      <td>0.137785</td>\n",
       "      <td>1.000000</td>\n",
       "      <td>0.099074</td>\n",
       "      <td>0.022511</td>\n",
       "      <td>0.065641</td>\n",
       "      <td>0.091127</td>\n",
       "      <td>0.028703</td>\n",
       "    </tr>\n",
       "    <tr>\n",
       "      <th>Bedrooms</th>\n",
       "      <td>0.392778</td>\n",
       "      <td>0.099074</td>\n",
       "      <td>1.000000</td>\n",
       "      <td>0.356606</td>\n",
       "      <td>0.831481</td>\n",
       "      <td>0.206443</td>\n",
       "      <td>0.417793</td>\n",
       "    </tr>\n",
       "    <tr>\n",
       "      <th>Area Size (Square Feet)</th>\n",
       "      <td>0.092378</td>\n",
       "      <td>0.022511</td>\n",
       "      <td>0.356606</td>\n",
       "      <td>1.000000</td>\n",
       "      <td>0.387790</td>\n",
       "      <td>0.155187</td>\n",
       "      <td>0.556214</td>\n",
       "    </tr>\n",
       "    <tr>\n",
       "      <th>Bath</th>\n",
       "      <td>0.336104</td>\n",
       "      <td>0.065641</td>\n",
       "      <td>0.831481</td>\n",
       "      <td>0.387790</td>\n",
       "      <td>1.000000</td>\n",
       "      <td>0.210263</td>\n",
       "      <td>0.457344</td>\n",
       "    </tr>\n",
       "    <tr>\n",
       "      <th>Balcony</th>\n",
       "      <td>-0.140155</td>\n",
       "      <td>0.091127</td>\n",
       "      <td>0.206443</td>\n",
       "      <td>0.155187</td>\n",
       "      <td>0.210263</td>\n",
       "      <td>1.000000</td>\n",
       "      <td>0.120875</td>\n",
       "    </tr>\n",
       "    <tr>\n",
       "      <th>Price</th>\n",
       "      <td>0.245717</td>\n",
       "      <td>0.028703</td>\n",
       "      <td>0.417793</td>\n",
       "      <td>0.556214</td>\n",
       "      <td>0.457344</td>\n",
       "      <td>0.120875</td>\n",
       "      <td>1.000000</td>\n",
       "    </tr>\n",
       "  </tbody>\n",
       "</table>\n",
       "</div>"
      ],
      "text/plain": [
       "                         Area Type  Availability  Bedrooms  \\\n",
       "Area Type                 1.000000      0.137785  0.392778   \n",
       "Availability              0.137785      1.000000  0.099074   \n",
       "Bedrooms                  0.392778      0.099074  1.000000   \n",
       "Area Size (Square Feet)   0.092378      0.022511  0.356606   \n",
       "Bath                      0.336104      0.065641  0.831481   \n",
       "Balcony                  -0.140155      0.091127  0.206443   \n",
       "Price                     0.245717      0.028703  0.417793   \n",
       "\n",
       "                         Area Size (Square Feet)      Bath   Balcony     Price  \n",
       "Area Type                               0.092378  0.336104 -0.140155  0.245717  \n",
       "Availability                            0.022511  0.065641  0.091127  0.028703  \n",
       "Bedrooms                                0.356606  0.831481  0.206443  0.417793  \n",
       "Area Size (Square Feet)                 1.000000  0.387790  0.155187  0.556214  \n",
       "Bath                                    0.387790  1.000000  0.210263  0.457344  \n",
       "Balcony                                 0.155187  0.210263  1.000000  0.120875  \n",
       "Price                                   0.556214  0.457344  0.120875  1.000000  "
      ]
     },
     "execution_count": 409,
     "metadata": {},
     "output_type": "execute_result"
    }
   ],
   "source": [
    "#Now let us visualize the data to get an idea of how various columns are correlated\n",
    "#But first:\n",
    "data.corr()"
   ]
  },
  {
   "cell_type": "code",
   "execution_count": 256,
   "id": "55a9ea61",
   "metadata": {},
   "outputs": [
    {
     "data": {
      "text/plain": [
       "<seaborn.axisgrid.FacetGrid at 0x19b3001e0d0>"
      ]
     },
     "execution_count": 256,
     "metadata": {},
     "output_type": "execute_result"
    },
    {
     "data": {
      "image/png": "[encoded data removed]",
      "text/plain": [
       "<Figure size 360x360 with 1 Axes>"
      ]
     },
     "metadata": {
      "needs_background": "light"
     },
     "output_type": "display_data"
    }
   ],
   "source": [
    "sns.relplot(x='Bedrooms',y='Price',data=data)"
   ]
  },
  {
   "cell_type": "code",
   "execution_count": 258,
   "id": "ad1adf3b",
   "metadata": {},
   "outputs": [
    {
     "data": {
      "text/plain": [
       "<seaborn.axisgrid.FacetGrid at 0x19b2e570f70>"
      ]
     },
     "execution_count": 258,
     "metadata": {},
     "output_type": "execute_result"
    },
    {
     "data": {
      "image/png": "[encoded data removed]",
      "text/plain": [
       "<Figure size 360x360 with 1 Axes>"
      ]
     },
     "metadata": {
      "needs_background": "light"
     },
     "output_type": "display_data"
    }
   ],
   "source": [
    "sns.relplot(x='Bath',y='Price',data=data)"
   ]
  },
  {
   "cell_type": "markdown",
   "id": "8c6b2b85",
   "metadata": {},
   "source": [
    "There seems to be some outliers here. In order to avoid having the diagrams disturbed too much with the outliers, let us get rid of them right now"
   ]
  },
  {
   "cell_type": "code",
   "execution_count": 259,
   "id": "376652bc",
   "metadata": {},
   "outputs": [
    {
     "name": "stderr",
     "output_type": "stream",
     "text": [
      "C:\\Users\\HP\\anaconda3\\lib\\site-packages\\pandas\\core\\frame.py:4906: SettingWithCopyWarning: \n",
      "A value is trying to be set on a copy of a slice from a DataFrame\n",
      "\n",
      "See the caveats in the documentation: https://pandas.pydata.org/pandas-docs/stable/user_guide/indexing.html#returning-a-view-versus-a-copy\n",
      "  return super().drop(\n"
     ]
    }
   ],
   "source": [
    "data.drop(data[data['Bath'] > 9].index, inplace=True)\n",
    "data.drop(data[data['Bedrooms'] > 8].index, inplace=True)\n"
   ]
  },
  {
   "cell_type": "markdown",
   "id": "f362c47f",
   "metadata": {},
   "source": [
    "Now lets re-plot the plots above"
   ]
  },
  {
   "cell_type": "code",
   "execution_count": 262,
   "id": "ede5f96a",
   "metadata": {},
   "outputs": [
    {
     "data": {
      "text/plain": [
       "<seaborn.axisgrid.FacetGrid at 0x19b30099520>"
      ]
     },
     "execution_count": 262,
     "metadata": {},
     "output_type": "execute_result"
    },
    {
     "data": {
      "image/png": "[encoded data removed]",
      "text/plain": [
       "<Figure size 360x360 with 1 Axes>"
      ]
     },
     "metadata": {
      "needs_background": "light"
     },
     "output_type": "display_data"
    }
   ],
   "source": [
    "sns.relplot(x='Bedrooms',y='Price',data=data)"
   ]
  },
  {
   "cell_type": "code",
   "execution_count": 263,
   "id": "3d9a447d",
   "metadata": {},
   "outputs": [
    {
     "data": {
      "text/plain": [
       "<seaborn.axisgrid.FacetGrid at 0x19b31a1c130>"
      ]
     },
     "execution_count": 263,
     "metadata": {},
     "output_type": "execute_result"
    },
    {
     "data": {
      "image/png": "[encoded data removed]",
      "text/plain": [
       "<Figure size 360x360 with 1 Axes>"
      ]
     },
     "metadata": {
      "needs_background": "light"
     },
     "output_type": "display_data"
    }
   ],
   "source": [
    "sns.relplot(x='Bath',y='Price',data=data)"
   ]
  },
  {
   "cell_type": "markdown",
   "id": "70c49b4f",
   "metadata": {},
   "source": [
    "It can be observed that for the houses under 4bedrooms and 5 bathrooms, the price of the hourse increases with the number of the Bedrroms/Bathrooms. Now let us check other aspects."
   ]
  },
  {
   "cell_type": "code",
   "execution_count": 410,
   "id": "47a3feef",
   "metadata": {},
   "outputs": [
    {
     "data": {
      "text/plain": [
       "<seaborn.axisgrid.FacetGrid at 0x19b33c9f130>"
      ]
     },
     "execution_count": 410,
     "metadata": {},
     "output_type": "execute_result"
    },
    {
     "data": {
      "image/png": "[encoded data removed]",
      "text/plain": [
       "<Figure size 360x360 with 1 Axes>"
      ]
     },
     "metadata": {
      "needs_background": "light"
     },
     "output_type": "display_data"
    }
   ],
   "source": [
    "sns.relplot(x='Area Size (Square Feet)',y='Price',data=data)"
   ]
  },
  {
   "cell_type": "markdown",
   "id": "4eb4cd0a",
   "metadata": {},
   "source": [
    "Well, again, it seems that apart from some outliers (mostly super-big plots), there is some linear relationship here between the Area Size and Price!"
   ]
  },
  {
   "cell_type": "code",
   "execution_count": 411,
   "id": "82077f34",
   "metadata": {},
   "outputs": [],
   "source": [
    "# Let us do away with these outliers!\n",
    "data.drop(data[data['Area Size (Square Feet)'] > 15000].index, inplace=True)"
   ]
  },
  {
   "cell_type": "code",
   "execution_count": 412,
   "id": "b21e61e5",
   "metadata": {},
   "outputs": [
    {
     "data": {
      "text/plain": [
       "<seaborn.axisgrid.FacetGrid at 0x19b33d848b0>"
      ]
     },
     "execution_count": 412,
     "metadata": {},
     "output_type": "execute_result"
    },
    {
     "data": {
      "image/png": "[encoded data removed]",
      "text/plain": [
       "<Figure size 360x360 with 1 Axes>"
      ]
     },
     "metadata": {
      "needs_background": "light"
     },
     "output_type": "display_data"
    }
   ],
   "source": [
    "sns.relplot(x='Area Size (Square Feet)',y='Price',data=data)"
   ]
  },
  {
   "cell_type": "markdown",
   "id": "4c2c701b",
   "metadata": {},
   "source": [
    "we can also check for the relation between the price and the number of balconies"
   ]
  },
  {
   "cell_type": "code",
   "execution_count": 413,
   "id": "87a37a0a",
   "metadata": {},
   "outputs": [
    {
     "data": {
      "text/plain": [
       "<seaborn.axisgrid.FacetGrid at 0x19b33d62f40>"
      ]
     },
     "execution_count": 413,
     "metadata": {},
     "output_type": "execute_result"
    },
    {
     "data": {
      "image/png": "[encoded data removed]",
      "text/plain": [
       "<Figure size 360x360 with 1 Axes>"
      ]
     },
     "metadata": {
      "needs_background": "light"
     },
     "output_type": "display_data"
    }
   ],
   "source": [
    "sns.relplot(x='Balcony',y='Price',data=data)"
   ]
  },
  {
   "cell_type": "markdown",
   "id": "f6cd89c7",
   "metadata": {},
   "source": [
    "The relation is not very clear. But we can detect that the houses with higher number of balconies tend to experience higher sale prices."
   ]
  },
  {
   "cell_type": "code",
   "execution_count": 414,
   "id": "5e6c70ea",
   "metadata": {},
   "outputs": [
    {
     "data": {
      "text/plain": [
       "<seaborn.axisgrid.FacetGrid at 0x19b33e138b0>"
      ]
     },
     "execution_count": 414,
     "metadata": {},
     "output_type": "execute_result"
    },
    {
     "data": {
      "image/png": "[encoded data removed]",
      "text/plain": [
       "<Figure size 412x360 with 1 Axes>"
      ]
     },
     "metadata": {
      "needs_background": "light"
     },
     "output_type": "display_data"
    }
   ],
   "source": [
    "#Let us add the dimension of colors as a representative for number of balconies.\n",
    "sns.relplot(x='Area Size (Square Feet)',y='Price',data=data,hue='Balcony')"
   ]
  },
  {
   "cell_type": "markdown",
   "id": "d57d6e10",
   "metadata": {},
   "source": [
    "Here, There seems not to be a meaningful relation between the number of balconies and the price, at least, not as visible as the relation with the size"
   ]
  },
  {
   "cell_type": "code",
   "execution_count": 416,
   "id": "02f561f2",
   "metadata": {},
   "outputs": [
    {
     "data": {
      "text/plain": [
       "<seaborn.axisgrid.FacetGrid at 0x19b33e1b250>"
      ]
     },
     "execution_count": 416,
     "metadata": {},
     "output_type": "execute_result"
    },
    {
     "data": {
      "image/png": "[encoded data removed]",
      "text/plain": [
       "<Figure size 422.75x360 with 1 Axes>"
      ]
     },
     "metadata": {
      "needs_background": "light"
     },
     "output_type": "display_data"
    }
   ],
   "source": [
    "sns.relplot(x='Area Size (Square Feet)',y='Price',data=data,hue='Availability')"
   ]
  },
  {
   "cell_type": "markdown",
   "id": "8c293f2c",
   "metadata": {},
   "source": [
    "Also, there seems that the availability of the house for moving in right away is not much effective in the sales price. So, the buyers are not usually in a rush!"
   ]
  },
  {
   "cell_type": "code",
   "execution_count": 421,
   "id": "e24f7af7",
   "metadata": {},
   "outputs": [
    {
     "data": {
      "text/plain": [
       "<seaborn.axisgrid.FacetGrid at 0x19b34e4a1f0>"
      ]
     },
     "execution_count": 421,
     "metadata": {},
     "output_type": "execute_result"
    },
    {
     "data": {
      "image/png": "[encoded data removed]",
      "text/plain": [
       "<Figure size 416.875x360 with 1 Axes>"
      ]
     },
     "metadata": {
      "needs_background": "light"
     },
     "output_type": "display_data"
    }
   ],
   "source": [
    "sns.relplot(x='Area Size (Square Feet)',y='Price',data=data,hue='Area Type')"
   ]
  },
  {
   "cell_type": "markdown",
   "id": "c230d3d0",
   "metadata": {},
   "source": [
    "It seems that the area types also do not have a significant impact on the price"
   ]
  },
  {
   "cell_type": "markdown",
   "id": "51fc0e5e",
   "metadata": {},
   "source": [
    "#  Price Prediction Based on All Available Factors"
   ]
  },
  {
   "cell_type": "markdown",
   "id": "4e1b16cc",
   "metadata": {},
   "source": [
    "Now lets go ahead with the linear regression part."
   ]
  },
  {
   "cell_type": "code",
   "execution_count": 424,
   "id": "ce3253fc",
   "metadata": {},
   "outputs": [],
   "source": [
    "from sklearn.linear_model import LinearRegression\n",
    "from sklearn.model_selection import train_test_split"
   ]
  },
  {
   "cell_type": "code",
   "execution_count": 425,
   "id": "25acca60",
   "metadata": {},
   "outputs": [],
   "source": [
    "train=data.drop(['Availability', 'Price'],axis=1)\n",
    "test=data['Price']\n"
   ]
  },
  {
   "cell_type": "code",
   "execution_count": 427,
   "id": "e2ae45d3",
   "metadata": {},
   "outputs": [],
   "source": [
    "X_train,X_test,y_train,y_test=train_test_split(train,test,test_size=0.3,random_state=2)"
   ]
  },
  {
   "cell_type": "code",
   "execution_count": 428,
   "id": "a94f4e05",
   "metadata": {},
   "outputs": [
    {
     "data": {
      "text/plain": [
       "LinearRegression()"
      ]
     },
     "execution_count": 428,
     "metadata": {},
     "output_type": "execute_result"
    }
   ],
   "source": [
    "regr=LinearRegression()\n",
    "regr.fit(X_train,y_train)"
   ]
  },
  {
   "cell_type": "code",
   "execution_count": 430,
   "id": "a71c3c83",
   "metadata": {},
   "outputs": [
    {
     "data": {
      "text/plain": [
       "array([109.34449147,  42.4064144 ,  55.39880111, ...,  75.02096743,\n",
       "        52.85573722, 127.01895392])"
      ]
     },
     "execution_count": 430,
     "metadata": {},
     "output_type": "execute_result"
    }
   ],
   "source": [
    "predict=regr.predict(X_test)\n",
    "predict"
   ]
  },
  {
   "cell_type": "code",
   "execution_count": 431,
   "id": "daf762a2",
   "metadata": {},
   "outputs": [
    {
     "data": {
      "text/plain": [
       "0.6046565764491366"
      ]
     },
     "execution_count": 431,
     "metadata": {},
     "output_type": "execute_result"
    }
   ],
   "source": [
    "regr.score(X_test,y_test)"
   ]
  },
  {
   "cell_type": "markdown",
   "id": "a1646afb",
   "metadata": {},
   "source": [
    "Not very accurate though..! Question for myself, what can be done to increase this?"
   ]
  },
  {
   "cell_type": "code",
   "execution_count": null,
   "id": "afc9ef81",
   "metadata": {},
   "outputs": [],
   "source": []
  }
 ],
 "metadata": {
  "kernelspec": {
   "display_name": "Python 3 (ipykernel)",
   "language": "python",
   "name": "python3"
  },
  "language_info": {
   "codemirror_mode": {
    "name": "ipython",
    "version": 3
   },
   "file_extension": ".py",
   "mimetype": "text/x-python",
   "name": "python",
   "nbconvert_exporter": "python",
   "pygments_lexer": "ipython3",
   "version": "3.9.7"
  }
 },
 "nbformat": 4,
 "nbformat_minor": 5
}
